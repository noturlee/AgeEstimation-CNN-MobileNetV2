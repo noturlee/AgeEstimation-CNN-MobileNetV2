{
 "cells": [
  {
   "cell_type": "markdown",
   "id": "eee8235f",
   "metadata": {},
   "source": [
    "# AGE"
   ]
  },
  {
   "cell_type": "code",
   "execution_count": 33,
   "id": "95f825a2",
   "metadata": {},
   "outputs": [
    {
     "name": "stdout",
     "output_type": "stream",
     "text": [
      "Path to dataset files: /Users/leighchejaikarran/.cache/kagglehub/datasets/jangedoo/utkface-new/versions/1\n"
     ]
    }
   ],
   "source": [
    "import kagglehub\n",
    "\n",
    "\n",
    "path = kagglehub.dataset_download(\"jangedoo/utkface-new\")\n",
    "print(\"Path to dataset files:\", path)"
   ]
  },
  {
   "cell_type": "code",
   "execution_count": 1,
   "id": "0faf678b",
   "metadata": {},
   "outputs": [],
   "source": [
    "import pandas as pd\n",
    "import os\n",
    "from sklearn.model_selection import train_test_split\n",
    "import tensorflow as tf\n",
    "from tensorflow.keras.applications import MobileNetV2\n",
    "from tensorflow.keras import layers, models"
   ]
  },
  {
   "cell_type": "code",
   "execution_count": 2,
   "id": "9b575822",
   "metadata": {},
   "outputs": [],
   "source": [
    "dataset_dir = os.path.join(\"/Users/Leighchejaikarran/.cache/kagglehub/datasets/jangedoo/utkface-new/versions/1\", \"UTKFace\")"
   ]
  },
  {
   "cell_type": "code",
   "execution_count": null,
   "id": "de354950",
   "metadata": {},
   "outputs": [
    {
     "name": "stdout",
     "output_type": "stream",
     "text": [
      "                                filename  age  age_class\n",
      "0   9_1_2_20161219204347420.jpg.chip.jpg    9          0\n",
      "1  36_0_1_20170117163203851.jpg.chip.jpg   36          3\n",
      "2  86_1_0_20170120225751953.jpg.chip.jpg   86          8\n",
      "3  26_1_0_20170116171048641.jpg.chip.jpg   26          2\n",
      "4   1_1_2_20161219154612988.jpg.chip.jpg    1          0\n"
     ]
    }
   ],
   "source": [
    "image_filenames = [f for f in os.listdir(dataset_dir) if f.endswith('.jpg')]\n",
    "\n",
    "# Define age range buckets\n",
    "def age_to_class(age):\n",
    "    if age < 10:\n",
    "        return 0  # 0–9\n",
    "    elif age < 20:\n",
    "        return 1  # 10–19\n",
    "    elif age < 30:\n",
    "        return 2  # 20–29\n",
    "    elif age < 40:\n",
    "        return 3  # 30–39\n",
    "    elif age < 50:\n",
    "        return 4  # 40–49\n",
    "    elif age < 60:\n",
    "        return 5  # 50–59\n",
    "    elif age < 70:\n",
    "        return 6  # 60–69\n",
    "    elif age < 80:\n",
    "        return 7  # 70–79\n",
    "    else:\n",
    "        return 8  # 80–89\n",
    "\n",
    "# Create labeled data\n",
    "data = []\n",
    "for filename in image_filenames:\n",
    "    try:\n",
    "        age = int(filename.split('_')[0])\n",
    "        if age < 90:\n",
    "            age_class = age_to_class(age)\n",
    "            data.append({'filename': filename, 'age': age, 'age_class': age_class})\n",
    "    except:\n",
    "        continue  \n",
    "\n",
    "df = pd.DataFrame(data)\n",
    "print(df.head())\n"
   ]
  },
  {
   "cell_type": "markdown",
   "id": "c76ace1e",
   "metadata": {},
   "source": [
    "# Preprocessing"
   ]
  },
  {
   "cell_type": "code",
   "execution_count": null,
   "id": "09c85e1a",
   "metadata": {},
   "outputs": [],
   "source": [
    "img_size = 128\n",
    "batch_size = 32\n",
    "num_classes = 9\n",
    "\n",
    "def preprocess_image(filename, label):\n",
    "    image = tf.io.read_file(filename)\n",
    "    image = tf.image.decode_jpeg(image, channels=3)\n",
    "    image = tf.image.resize_with_pad(image, img_size, img_size)\n",
    "    image = tf.cast(image, tf.float32) / 255.0\n",
    "    label = tf.one_hot(tf.cast(label, tf.int32), depth=num_classes)\n",
    "    return image, label\n",
    "\n",
    "def create_dataset(df):\n",
    "    filepaths = [os.path.join(dataset_dir, fname) for fname in df['filename']]\n",
    "    labels = df['age_class'].values\n",
    "    ds = tf.data.Dataset.from_tensor_slices((filepaths, labels))\n",
    "    ds = ds.map(preprocess_image, num_parallel_calls=tf.data.AUTOTUNE)\n",
    "    ds = ds.shuffle(1000).batch(batch_size).prefetch(tf.data.AUTOTUNE)\n",
    "    return ds\n",
    "\n",
    "train_ds = create_dataset(train_df)\n",
    "val_ds = create_dataset(val_df)"
   ]
  },
  {
   "cell_type": "markdown",
   "id": "cf8b826c",
   "metadata": {},
   "source": [
    "# Building Classification Model"
   ]
  },
  {
   "cell_type": "code",
   "execution_count": 11,
   "id": "13da5d34",
   "metadata": {},
   "outputs": [
    {
     "data": {
      "text/html": [
       "<pre style=\"white-space:pre;overflow-x:auto;line-height:normal;font-family:Menlo,'DejaVu Sans Mono',consolas,'Courier New',monospace\"><span style=\"font-weight: bold\">Model: \"sequential\"</span>\n",
       "</pre>\n"
      ],
      "text/plain": [
       "\u001b[1mModel: \"sequential\"\u001b[0m\n"
      ]
     },
     "metadata": {},
     "output_type": "display_data"
    },
    {
     "data": {
      "text/html": [
       "<pre style=\"white-space:pre;overflow-x:auto;line-height:normal;font-family:Menlo,'DejaVu Sans Mono',consolas,'Courier New',monospace\">┏━━━━━━━━━━━━━━━━━━━━━━━━━━━━━━━━━┳━━━━━━━━━━━━━━━━━━━━━━━━┳━━━━━━━━━━━━━━━┓\n",
       "┃<span style=\"font-weight: bold\"> Layer (type)                    </span>┃<span style=\"font-weight: bold\"> Output Shape           </span>┃<span style=\"font-weight: bold\">       Param # </span>┃\n",
       "┡━━━━━━━━━━━━━━━━━━━━━━━━━━━━━━━━━╇━━━━━━━━━━━━━━━━━━━━━━━━╇━━━━━━━━━━━━━━━┩\n",
       "│ mobilenetv2_1.00_128            │ (<span style=\"color: #00d7ff; text-decoration-color: #00d7ff\">None</span>, <span style=\"color: #00af00; text-decoration-color: #00af00\">4</span>, <span style=\"color: #00af00; text-decoration-color: #00af00\">4</span>, <span style=\"color: #00af00; text-decoration-color: #00af00\">1280</span>)     │     <span style=\"color: #00af00; text-decoration-color: #00af00\">2,257,984</span> │\n",
       "│ (<span style=\"color: #0087ff; text-decoration-color: #0087ff\">Functional</span>)                    │                        │               │\n",
       "├─────────────────────────────────┼────────────────────────┼───────────────┤\n",
       "│ global_average_pooling2d        │ (<span style=\"color: #00d7ff; text-decoration-color: #00d7ff\">None</span>, <span style=\"color: #00af00; text-decoration-color: #00af00\">1280</span>)           │             <span style=\"color: #00af00; text-decoration-color: #00af00\">0</span> │\n",
       "│ (<span style=\"color: #0087ff; text-decoration-color: #0087ff\">GlobalAveragePooling2D</span>)        │                        │               │\n",
       "├─────────────────────────────────┼────────────────────────┼───────────────┤\n",
       "│ dense (<span style=\"color: #0087ff; text-decoration-color: #0087ff\">Dense</span>)                   │ (<span style=\"color: #00d7ff; text-decoration-color: #00d7ff\">None</span>, <span style=\"color: #00af00; text-decoration-color: #00af00\">128</span>)            │       <span style=\"color: #00af00; text-decoration-color: #00af00\">163,968</span> │\n",
       "├─────────────────────────────────┼────────────────────────┼───────────────┤\n",
       "│ dropout (<span style=\"color: #0087ff; text-decoration-color: #0087ff\">Dropout</span>)               │ (<span style=\"color: #00d7ff; text-decoration-color: #00d7ff\">None</span>, <span style=\"color: #00af00; text-decoration-color: #00af00\">128</span>)            │             <span style=\"color: #00af00; text-decoration-color: #00af00\">0</span> │\n",
       "├─────────────────────────────────┼────────────────────────┼───────────────┤\n",
       "│ dense_1 (<span style=\"color: #0087ff; text-decoration-color: #0087ff\">Dense</span>)                 │ (<span style=\"color: #00d7ff; text-decoration-color: #00d7ff\">None</span>, <span style=\"color: #00af00; text-decoration-color: #00af00\">9</span>)              │         <span style=\"color: #00af00; text-decoration-color: #00af00\">1,161</span> │\n",
       "└─────────────────────────────────┴────────────────────────┴───────────────┘\n",
       "</pre>\n"
      ],
      "text/plain": [
       "┏━━━━━━━━━━━━━━━━━━━━━━━━━━━━━━━━━┳━━━━━━━━━━━━━━━━━━━━━━━━┳━━━━━━━━━━━━━━━┓\n",
       "┃\u001b[1m \u001b[0m\u001b[1mLayer (type)                   \u001b[0m\u001b[1m \u001b[0m┃\u001b[1m \u001b[0m\u001b[1mOutput Shape          \u001b[0m\u001b[1m \u001b[0m┃\u001b[1m \u001b[0m\u001b[1m      Param #\u001b[0m\u001b[1m \u001b[0m┃\n",
       "┡━━━━━━━━━━━━━━━━━━━━━━━━━━━━━━━━━╇━━━━━━━━━━━━━━━━━━━━━━━━╇━━━━━━━━━━━━━━━┩\n",
       "│ mobilenetv2_1.00_128            │ (\u001b[38;5;45mNone\u001b[0m, \u001b[38;5;34m4\u001b[0m, \u001b[38;5;34m4\u001b[0m, \u001b[38;5;34m1280\u001b[0m)     │     \u001b[38;5;34m2,257,984\u001b[0m │\n",
       "│ (\u001b[38;5;33mFunctional\u001b[0m)                    │                        │               │\n",
       "├─────────────────────────────────┼────────────────────────┼───────────────┤\n",
       "│ global_average_pooling2d        │ (\u001b[38;5;45mNone\u001b[0m, \u001b[38;5;34m1280\u001b[0m)           │             \u001b[38;5;34m0\u001b[0m │\n",
       "│ (\u001b[38;5;33mGlobalAveragePooling2D\u001b[0m)        │                        │               │\n",
       "├─────────────────────────────────┼────────────────────────┼───────────────┤\n",
       "│ dense (\u001b[38;5;33mDense\u001b[0m)                   │ (\u001b[38;5;45mNone\u001b[0m, \u001b[38;5;34m128\u001b[0m)            │       \u001b[38;5;34m163,968\u001b[0m │\n",
       "├─────────────────────────────────┼────────────────────────┼───────────────┤\n",
       "│ dropout (\u001b[38;5;33mDropout\u001b[0m)               │ (\u001b[38;5;45mNone\u001b[0m, \u001b[38;5;34m128\u001b[0m)            │             \u001b[38;5;34m0\u001b[0m │\n",
       "├─────────────────────────────────┼────────────────────────┼───────────────┤\n",
       "│ dense_1 (\u001b[38;5;33mDense\u001b[0m)                 │ (\u001b[38;5;45mNone\u001b[0m, \u001b[38;5;34m9\u001b[0m)              │         \u001b[38;5;34m1,161\u001b[0m │\n",
       "└─────────────────────────────────┴────────────────────────┴───────────────┘\n"
      ]
     },
     "metadata": {},
     "output_type": "display_data"
    },
    {
     "data": {
      "text/html": [
       "<pre style=\"white-space:pre;overflow-x:auto;line-height:normal;font-family:Menlo,'DejaVu Sans Mono',consolas,'Courier New',monospace\"><span style=\"font-weight: bold\"> Total params: </span><span style=\"color: #00af00; text-decoration-color: #00af00\">2,423,113</span> (9.24 MB)\n",
       "</pre>\n"
      ],
      "text/plain": [
       "\u001b[1m Total params: \u001b[0m\u001b[38;5;34m2,423,113\u001b[0m (9.24 MB)\n"
      ]
     },
     "metadata": {},
     "output_type": "display_data"
    },
    {
     "data": {
      "text/html": [
       "<pre style=\"white-space:pre;overflow-x:auto;line-height:normal;font-family:Menlo,'DejaVu Sans Mono',consolas,'Courier New',monospace\"><span style=\"font-weight: bold\"> Trainable params: </span><span style=\"color: #00af00; text-decoration-color: #00af00\">165,129</span> (645.04 KB)\n",
       "</pre>\n"
      ],
      "text/plain": [
       "\u001b[1m Trainable params: \u001b[0m\u001b[38;5;34m165,129\u001b[0m (645.04 KB)\n"
      ]
     },
     "metadata": {},
     "output_type": "display_data"
    },
    {
     "data": {
      "text/html": [
       "<pre style=\"white-space:pre;overflow-x:auto;line-height:normal;font-family:Menlo,'DejaVu Sans Mono',consolas,'Courier New',monospace\"><span style=\"font-weight: bold\"> Non-trainable params: </span><span style=\"color: #00af00; text-decoration-color: #00af00\">2,257,984</span> (8.61 MB)\n",
       "</pre>\n"
      ],
      "text/plain": [
       "\u001b[1m Non-trainable params: \u001b[0m\u001b[38;5;34m2,257,984\u001b[0m (8.61 MB)\n"
      ]
     },
     "metadata": {},
     "output_type": "display_data"
    }
   ],
   "source": [
    "base_model = MobileNetV2(input_shape=(img_size, img_size, 3),\n",
    "                         include_top=False,\n",
    "                         weights='imagenet')\n",
    "base_model.trainable = False\n",
    "\n",
    "model = models.Sequential([\n",
    "    base_model,\n",
    "    layers.GlobalAveragePooling2D(),\n",
    "    layers.Dense(128, activation='relu'),\n",
    "    layers.Dropout(0.3),\n",
    "    layers.Dense(num_classes, activation='softmax')  # Multi-class classification\n",
    "])\n",
    "\n",
    "model.compile(optimizer='adam',\n",
    "              loss='categorical_crossentropy',\n",
    "              metrics=['accuracy'])\n",
    "\n",
    "model.summary()"
   ]
  },
  {
   "cell_type": "markdown",
   "id": "2b4d4333",
   "metadata": {},
   "source": [
    "# Train Model"
   ]
  },
  {
   "cell_type": "code",
   "execution_count": 12,
   "id": "606256a4",
   "metadata": {},
   "outputs": [
    {
     "name": "stdout",
     "output_type": "stream",
     "text": [
      "Epoch 1/5\n",
      "\u001b[1m589/589\u001b[0m \u001b[32m━━━━━━━━━━━━━━━━━━━━\u001b[0m\u001b[37m\u001b[0m \u001b[1m54s\u001b[0m 87ms/step - accuracy: 0.4044 - loss: 1.6193 - val_accuracy: 0.4730 - val_loss: 1.3257\n",
      "Epoch 2/5\n",
      "\u001b[1m589/589\u001b[0m \u001b[32m━━━━━━━━━━━━━━━━━━━━\u001b[0m\u001b[37m\u001b[0m \u001b[1m53s\u001b[0m 90ms/step - accuracy: 0.4775 - loss: 1.3459 - val_accuracy: 0.4853 - val_loss: 1.2943\n",
      "Epoch 3/5\n",
      "\u001b[1m589/589\u001b[0m \u001b[32m━━━━━━━━━━━━━━━━━━━━\u001b[0m\u001b[37m\u001b[0m \u001b[1m55s\u001b[0m 93ms/step - accuracy: 0.4887 - loss: 1.3091 - val_accuracy: 0.4977 - val_loss: 1.2794\n",
      "Epoch 4/5\n",
      "\u001b[1m589/589\u001b[0m \u001b[32m━━━━━━━━━━━━━━━━━━━━\u001b[0m\u001b[37m\u001b[0m \u001b[1m56s\u001b[0m 94ms/step - accuracy: 0.4982 - loss: 1.2635 - val_accuracy: 0.4998 - val_loss: 1.2642\n",
      "Epoch 5/5\n",
      "\u001b[1m589/589\u001b[0m \u001b[32m━━━━━━━━━━━━━━━━━━━━\u001b[0m\u001b[37m\u001b[0m \u001b[1m54s\u001b[0m 92ms/step - accuracy: 0.5140 - loss: 1.2424 - val_accuracy: 0.4955 - val_loss: 1.2822\n"
     ]
    }
   ],
   "source": [
    "history = model.fit(\n",
    "    train_ds,\n",
    "    validation_data=val_ds,\n",
    "    epochs=5\n",
    ")\n"
   ]
  },
  {
   "cell_type": "markdown",
   "id": "a76daa50",
   "metadata": {},
   "source": [
    "# Fine Tuning"
   ]
  },
  {
   "cell_type": "code",
   "execution_count": 13,
   "id": "5799320f",
   "metadata": {},
   "outputs": [
    {
     "name": "stdout",
     "output_type": "stream",
     "text": [
      "Epoch 1/3\n",
      "\u001b[1m589/589\u001b[0m \u001b[32m━━━━━━━━━━━━━━━━━━━━\u001b[0m\u001b[37m\u001b[0m \u001b[1m76s\u001b[0m 120ms/step - accuracy: 0.3526 - loss: 1.8968 - val_accuracy: 0.4768 - val_loss: 1.3499\n",
      "Epoch 2/3\n",
      "\u001b[1m589/589\u001b[0m \u001b[32m━━━━━━━━━━━━━━━━━━━━\u001b[0m\u001b[37m\u001b[0m \u001b[1m73s\u001b[0m 123ms/step - accuracy: 0.4577 - loss: 1.3989 - val_accuracy: 0.4885 - val_loss: 1.3163\n",
      "Epoch 3/3\n",
      "\u001b[1m589/589\u001b[0m \u001b[32m━━━━━━━━━━━━━━━━━━━━\u001b[0m\u001b[37m\u001b[0m \u001b[1m73s\u001b[0m 125ms/step - accuracy: 0.4924 - loss: 1.2768 - val_accuracy: 0.5011 - val_loss: 1.3016\n"
     ]
    }
   ],
   "source": [
    "base_model.trainable = True\n",
    "for layer in base_model.layers[:-40]:\n",
    "    layer.trainable = False\n",
    "\n",
    "model.compile(optimizer=tf.keras.optimizers.Adam(1e-5),\n",
    "              loss='categorical_crossentropy',\n",
    "              metrics=['accuracy'])\n",
    "\n",
    "history_finetune = model.fit(\n",
    "    train_ds,\n",
    "    validation_data=val_ds,\n",
    "    epochs=3\n",
    ")"
   ]
  },
  {
   "cell_type": "code",
   "execution_count": 14,
   "id": "f9ce369c",
   "metadata": {},
   "outputs": [
    {
     "name": "stdout",
     "output_type": "stream",
     "text": [
      "INFO:tensorflow:Assets written to: /var/folders/lq/90xs6mj17d73071t7twq5nmr0000gn/T/tmpbz_qreo6/assets\n"
     ]
    },
    {
     "name": "stderr",
     "output_type": "stream",
     "text": [
      "INFO:tensorflow:Assets written to: /var/folders/lq/90xs6mj17d73071t7twq5nmr0000gn/T/tmpbz_qreo6/assets\n"
     ]
    },
    {
     "name": "stdout",
     "output_type": "stream",
     "text": [
      "Saved artifact at '/var/folders/lq/90xs6mj17d73071t7twq5nmr0000gn/T/tmpbz_qreo6'. The following endpoints are available:\n",
      "\n",
      "* Endpoint 'serve'\n",
      "  args_0 (POSITIONAL_ONLY): TensorSpec(shape=(None, 128, 128, 3), dtype=tf.float32, name='keras_tensor_154')\n",
      "Output Type:\n",
      "  TensorSpec(shape=(None, 9), dtype=tf.float32, name=None)\n",
      "Captures:\n",
      "  13324019312: TensorSpec(shape=(), dtype=tf.resource, name=None)\n",
      "  13329884256: TensorSpec(shape=(), dtype=tf.resource, name=None)\n",
      "  13329883728: TensorSpec(shape=(), dtype=tf.resource, name=None)\n",
      "  13329884960: TensorSpec(shape=(), dtype=tf.resource, name=None)\n",
      "  13329884608: TensorSpec(shape=(), dtype=tf.resource, name=None)\n",
      "  13303884432: TensorSpec(shape=(), dtype=tf.resource, name=None)\n",
      "  13341868096: TensorSpec(shape=(), dtype=tf.resource, name=None)\n",
      "  13341868448: TensorSpec(shape=(), dtype=tf.resource, name=None)\n",
      "  13303876416: TensorSpec(shape=(), dtype=tf.resource, name=None)\n",
      "  13303875536: TensorSpec(shape=(), dtype=tf.resource, name=None)\n",
      "  13341877520: TensorSpec(shape=(), dtype=tf.resource, name=None)\n",
      "  13342314736: TensorSpec(shape=(), dtype=tf.resource, name=None)\n",
      "  13342317728: TensorSpec(shape=(), dtype=tf.resource, name=None)\n",
      "  13342301520: TensorSpec(shape=(), dtype=tf.resource, name=None)\n",
      "  13342298880: TensorSpec(shape=(), dtype=tf.resource, name=None)\n",
      "  13342315088: TensorSpec(shape=(), dtype=tf.resource, name=None)\n",
      "  13342346576: TensorSpec(shape=(), dtype=tf.resource, name=None)\n",
      "  13342346752: TensorSpec(shape=(), dtype=tf.resource, name=None)\n",
      "  13342327024: TensorSpec(shape=(), dtype=tf.resource, name=None)\n",
      "  13342330016: TensorSpec(shape=(), dtype=tf.resource, name=None)\n",
      "  13341744992: TensorSpec(shape=(), dtype=tf.resource, name=None)\n",
      "  13342224976: TensorSpec(shape=(), dtype=tf.resource, name=None)\n",
      "  13342225152: TensorSpec(shape=(), dtype=tf.resource, name=None)\n",
      "  13342153008: TensorSpec(shape=(), dtype=tf.resource, name=None)\n",
      "  13342154240: TensorSpec(shape=(), dtype=tf.resource, name=None)\n",
      "  13342228320: TensorSpec(shape=(), dtype=tf.resource, name=None)\n",
      "  13342208240: TensorSpec(shape=(), dtype=tf.resource, name=None)\n",
      "  13342209296: TensorSpec(shape=(), dtype=tf.resource, name=None)\n",
      "  13342174016: TensorSpec(shape=(), dtype=tf.resource, name=None)\n",
      "  13342208064: TensorSpec(shape=(), dtype=tf.resource, name=None)\n",
      "  13342211760: TensorSpec(shape=(), dtype=tf.resource, name=None)\n",
      "  13342273776: TensorSpec(shape=(), dtype=tf.resource, name=None)\n",
      "  13342273952: TensorSpec(shape=(), dtype=tf.resource, name=None)\n",
      "  13342205904: TensorSpec(shape=(), dtype=tf.resource, name=None)\n",
      "  13342207136: TensorSpec(shape=(), dtype=tf.resource, name=None)\n",
      "  13342277120: TensorSpec(shape=(), dtype=tf.resource, name=None)\n",
      "  13303907072: TensorSpec(shape=(), dtype=tf.resource, name=None)\n",
      "  13303907248: TensorSpec(shape=(), dtype=tf.resource, name=None)\n",
      "  13303896544: TensorSpec(shape=(), dtype=tf.resource, name=None)\n",
      "  13303897776: TensorSpec(shape=(), dtype=tf.resource, name=None)\n",
      "  13303910240: TensorSpec(shape=(), dtype=tf.resource, name=None)\n",
      "  13303955872: TensorSpec(shape=(), dtype=tf.resource, name=None)\n",
      "  13303956928: TensorSpec(shape=(), dtype=tf.resource, name=None)\n",
      "  13303942128: TensorSpec(shape=(), dtype=tf.resource, name=None)\n",
      "  13303955696: TensorSpec(shape=(), dtype=tf.resource, name=None)\n",
      "  13303972960: TensorSpec(shape=(), dtype=tf.resource, name=None)\n",
      "  13303993264: TensorSpec(shape=(), dtype=tf.resource, name=None)\n",
      "  13303994320: TensorSpec(shape=(), dtype=tf.resource, name=None)\n",
      "  13303975424: TensorSpec(shape=(), dtype=tf.resource, name=None)\n",
      "  13303993088: TensorSpec(shape=(), dtype=tf.resource, name=None)\n",
      "  13304016032: TensorSpec(shape=(), dtype=tf.resource, name=None)\n",
      "  13304040432: TensorSpec(shape=(), dtype=tf.resource, name=None)\n",
      "  13304045632: TensorSpec(shape=(), dtype=tf.resource, name=None)\n",
      "  13304039024: TensorSpec(shape=(), dtype=tf.resource, name=None)\n",
      "  13304040256: TensorSpec(shape=(), dtype=tf.resource, name=None)\n",
      "  13304049328: TensorSpec(shape=(), dtype=tf.resource, name=None)\n",
      "  13341594016: TensorSpec(shape=(), dtype=tf.resource, name=None)\n",
      "  13341594192: TensorSpec(shape=(), dtype=tf.resource, name=None)\n",
      "  13341567104: TensorSpec(shape=(), dtype=tf.resource, name=None)\n",
      "  13341568336: TensorSpec(shape=(), dtype=tf.resource, name=None)\n",
      "  13341596656: TensorSpec(shape=(), dtype=tf.resource, name=None)\n",
      "  13341612688: TensorSpec(shape=(), dtype=tf.resource, name=None)\n",
      "  13341630528: TensorSpec(shape=(), dtype=tf.resource, name=None)\n",
      "  13341611280: TensorSpec(shape=(), dtype=tf.resource, name=None)\n",
      "  13341612512: TensorSpec(shape=(), dtype=tf.resource, name=None)\n",
      "  13341633872: TensorSpec(shape=(), dtype=tf.resource, name=None)\n",
      "  13341675584: TensorSpec(shape=(), dtype=tf.resource, name=None)\n",
      "  13341675760: TensorSpec(shape=(), dtype=tf.resource, name=None)\n",
      "  13341656864: TensorSpec(shape=(), dtype=tf.resource, name=None)\n",
      "  13341658096: TensorSpec(shape=(), dtype=tf.resource, name=None)\n",
      "  13341679456: TensorSpec(shape=(), dtype=tf.resource, name=None)\n",
      "  13341717072: TensorSpec(shape=(), dtype=tf.resource, name=None)\n",
      "  13341717248: TensorSpec(shape=(), dtype=tf.resource, name=None)\n",
      "  13341698352: TensorSpec(shape=(), dtype=tf.resource, name=None)\n",
      "  13341699584: TensorSpec(shape=(), dtype=tf.resource, name=None)\n",
      "  13338473040: TensorSpec(shape=(), dtype=tf.resource, name=None)\n",
      "  13338497440: TensorSpec(shape=(), dtype=tf.resource, name=None)\n",
      "  13338498496: TensorSpec(shape=(), dtype=tf.resource, name=None)\n",
      "  13338475504: TensorSpec(shape=(), dtype=tf.resource, name=None)\n",
      "  13338497264: TensorSpec(shape=(), dtype=tf.resource, name=None)\n",
      "  13338514528: TensorSpec(shape=(), dtype=tf.resource, name=None)\n",
      "  13338534832: TensorSpec(shape=(), dtype=tf.resource, name=None)\n",
      "  13338535888: TensorSpec(shape=(), dtype=tf.resource, name=None)\n",
      "  13338516992: TensorSpec(shape=(), dtype=tf.resource, name=None)\n",
      "  13338534656: TensorSpec(shape=(), dtype=tf.resource, name=None)\n",
      "  13338560112: TensorSpec(shape=(), dtype=tf.resource, name=None)\n",
      "  13338584512: TensorSpec(shape=(), dtype=tf.resource, name=None)\n",
      "  13338585568: TensorSpec(shape=(), dtype=tf.resource, name=None)\n",
      "  13338583104: TensorSpec(shape=(), dtype=tf.resource, name=None)\n",
      "  13338584336: TensorSpec(shape=(), dtype=tf.resource, name=None)\n",
      "  13338605872: TensorSpec(shape=(), dtype=tf.resource, name=None)\n",
      "  13338613888: TensorSpec(shape=(), dtype=tf.resource, name=None)\n",
      "  13338614944: TensorSpec(shape=(), dtype=tf.resource, name=None)\n",
      "  13338612480: TensorSpec(shape=(), dtype=tf.resource, name=None)\n",
      "  13338613712: TensorSpec(shape=(), dtype=tf.resource, name=None)\n",
      "  13338643968: TensorSpec(shape=(), dtype=tf.resource, name=None)\n",
      "  13342408944: TensorSpec(shape=(), dtype=tf.resource, name=None)\n",
      "  13342410000: TensorSpec(shape=(), dtype=tf.resource, name=None)\n",
      "  13338671936: TensorSpec(shape=(), dtype=tf.resource, name=None)\n",
      "  13342408768: TensorSpec(shape=(), dtype=tf.resource, name=None)\n",
      "  13342417840: TensorSpec(shape=(), dtype=tf.resource, name=None)\n",
      "  13342442240: TensorSpec(shape=(), dtype=tf.resource, name=None)\n",
      "  13342443296: TensorSpec(shape=(), dtype=tf.resource, name=None)\n",
      "  13342420304: TensorSpec(shape=(), dtype=tf.resource, name=None)\n",
      "  13342442064: TensorSpec(shape=(), dtype=tf.resource, name=None)\n",
      "  13342445408: TensorSpec(shape=(), dtype=tf.resource, name=None)\n",
      "  13342466816: TensorSpec(shape=(), dtype=tf.resource, name=None)\n",
      "  13342466992: TensorSpec(shape=(), dtype=tf.resource, name=None)\n",
      "  13342349792: TensorSpec(shape=(), dtype=tf.resource, name=None)\n",
      "  13342351024: TensorSpec(shape=(), dtype=tf.resource, name=None)\n",
      "  13342469984: TensorSpec(shape=(), dtype=tf.resource, name=None)\n",
      "  13342515616: TensorSpec(shape=(), dtype=tf.resource, name=None)\n",
      "  13342516672: TensorSpec(shape=(), dtype=tf.resource, name=None)\n",
      "  13342497776: TensorSpec(shape=(), dtype=tf.resource, name=None)\n",
      "  13342515440: TensorSpec(shape=(), dtype=tf.resource, name=None)\n",
      "  13342536800: TensorSpec(shape=(), dtype=tf.resource, name=None)\n",
      "  13342561200: TensorSpec(shape=(), dtype=tf.resource, name=None)\n",
      "  13342562256: TensorSpec(shape=(), dtype=tf.resource, name=None)\n",
      "  13342539264: TensorSpec(shape=(), dtype=tf.resource, name=None)\n",
      "  13342561024: TensorSpec(shape=(), dtype=tf.resource, name=None)\n",
      "  13342578464: TensorSpec(shape=(), dtype=tf.resource, name=None)\n",
      "  13342602864: TensorSpec(shape=(), dtype=tf.resource, name=None)\n",
      "  13342603920: TensorSpec(shape=(), dtype=tf.resource, name=None)\n",
      "  13342601456: TensorSpec(shape=(), dtype=tf.resource, name=None)\n",
      "  13342602688: TensorSpec(shape=(), dtype=tf.resource, name=None)\n",
      "  13338679600: TensorSpec(shape=(), dtype=tf.resource, name=None)\n",
      "  13338708096: TensorSpec(shape=(), dtype=tf.resource, name=None)\n",
      "  13338709152: TensorSpec(shape=(), dtype=tf.resource, name=None)\n",
      "  13338706688: TensorSpec(shape=(), dtype=tf.resource, name=None)\n",
      "  13338707920: TensorSpec(shape=(), dtype=tf.resource, name=None)\n",
      "  13338737472: TensorSpec(shape=(), dtype=tf.resource, name=None)\n",
      "  13338757776: TensorSpec(shape=(), dtype=tf.resource, name=None)\n",
      "  13338771520: TensorSpec(shape=(), dtype=tf.resource, name=None)\n",
      "  13338756368: TensorSpec(shape=(), dtype=tf.resource, name=None)\n",
      "  13338757600: TensorSpec(shape=(), dtype=tf.resource, name=None)\n",
      "  13338775040: TensorSpec(shape=(), dtype=tf.resource, name=None)\n",
      "  13338808560: TensorSpec(shape=(), dtype=tf.resource, name=None)\n",
      "  13338808736: TensorSpec(shape=(), dtype=tf.resource, name=None)\n",
      "  13338798032: TensorSpec(shape=(), dtype=tf.resource, name=None)\n",
      "  13338799264: TensorSpec(shape=(), dtype=tf.resource, name=None)\n",
      "  13338811904: TensorSpec(shape=(), dtype=tf.resource, name=None)\n",
      "  13338862336: TensorSpec(shape=(), dtype=tf.resource, name=None)\n",
      "  13338862512: TensorSpec(shape=(), dtype=tf.resource, name=None)\n",
      "  13338835424: TensorSpec(shape=(), dtype=tf.resource, name=None)\n",
      "  13338836656: TensorSpec(shape=(), dtype=tf.resource, name=None)\n",
      "  13338865504: TensorSpec(shape=(), dtype=tf.resource, name=None)\n",
      "  13338902944: TensorSpec(shape=(), dtype=tf.resource, name=None)\n",
      "  13338904000: TensorSpec(shape=(), dtype=tf.resource, name=None)\n",
      "  13338889200: TensorSpec(shape=(), dtype=tf.resource, name=None)\n",
      "  13338902768: TensorSpec(shape=(), dtype=tf.resource, name=None)\n",
      "  13338924304: TensorSpec(shape=(), dtype=tf.resource, name=None)\n",
      "  13338948704: TensorSpec(shape=(), dtype=tf.resource, name=None)\n",
      "  13338949760: TensorSpec(shape=(), dtype=tf.resource, name=None)\n",
      "  13338926768: TensorSpec(shape=(), dtype=tf.resource, name=None)\n",
      "  13338948528: TensorSpec(shape=(), dtype=tf.resource, name=None)\n",
      "  13338969888: TensorSpec(shape=(), dtype=tf.resource, name=None)\n",
      "  13338986096: TensorSpec(shape=(), dtype=tf.resource, name=None)\n",
      "  13338987152: TensorSpec(shape=(), dtype=tf.resource, name=None)\n",
      "  13338984688: TensorSpec(shape=(), dtype=tf.resource, name=None)\n",
      "  13338985920: TensorSpec(shape=(), dtype=tf.resource, name=None)\n",
      "  13339003184: TensorSpec(shape=(), dtype=tf.resource, name=None)\n",
      "  13339023488: TensorSpec(shape=(), dtype=tf.resource, name=None)\n",
      "  13339024544: TensorSpec(shape=(), dtype=tf.resource, name=None)\n",
      "  13339022080: TensorSpec(shape=(), dtype=tf.resource, name=None)\n",
      "  13339023312: TensorSpec(shape=(), dtype=tf.resource, name=None)\n",
      "  13339047536: TensorSpec(shape=(), dtype=tf.resource, name=None)\n",
      "  13339067664: TensorSpec(shape=(), dtype=tf.resource, name=None)\n",
      "  13339068720: TensorSpec(shape=(), dtype=tf.resource, name=None)\n",
      "  13339049824: TensorSpec(shape=(), dtype=tf.resource, name=None)\n",
      "  13339067488: TensorSpec(shape=(), dtype=tf.resource, name=None)\n",
      "  13339084752: TensorSpec(shape=(), dtype=tf.resource, name=None)\n",
      "  13339105056: TensorSpec(shape=(), dtype=tf.resource, name=None)\n",
      "  13339106112: TensorSpec(shape=(), dtype=tf.resource, name=None)\n",
      "  13339103648: TensorSpec(shape=(), dtype=tf.resource, name=None)\n",
      "  13339104880: TensorSpec(shape=(), dtype=tf.resource, name=None)\n",
      "  13339118048: TensorSpec(shape=(), dtype=tf.resource, name=None)\n",
      "  13339150640: TensorSpec(shape=(), dtype=tf.resource, name=None)\n",
      "  13339151696: TensorSpec(shape=(), dtype=tf.resource, name=None)\n",
      "  13339149232: TensorSpec(shape=(), dtype=tf.resource, name=None)\n",
      "  13339150464: TensorSpec(shape=(), dtype=tf.resource, name=None)\n",
      "  13339176096: TensorSpec(shape=(), dtype=tf.resource, name=None)\n",
      "  13339204592: TensorSpec(shape=(), dtype=tf.resource, name=None)\n",
      "  13339213888: TensorSpec(shape=(), dtype=tf.resource, name=None)\n",
      "  13339203184: TensorSpec(shape=(), dtype=tf.resource, name=None)\n",
      "  13339204416: TensorSpec(shape=(), dtype=tf.resource, name=None)\n",
      "  13339217584: TensorSpec(shape=(), dtype=tf.resource, name=None)\n",
      "  13339259296: TensorSpec(shape=(), dtype=tf.resource, name=None)\n",
      "  13339259472: TensorSpec(shape=(), dtype=tf.resource, name=None)\n",
      "  13339240576: TensorSpec(shape=(), dtype=tf.resource, name=None)\n",
      "  13339241808: TensorSpec(shape=(), dtype=tf.resource, name=None)\n",
      "  13339262640: TensorSpec(shape=(), dtype=tf.resource, name=None)\n",
      "  13339299904: TensorSpec(shape=(), dtype=tf.resource, name=None)\n",
      "  13339300960: TensorSpec(shape=(), dtype=tf.resource, name=None)\n",
      "  13339282064: TensorSpec(shape=(), dtype=tf.resource, name=None)\n",
      "  13339283296: TensorSpec(shape=(), dtype=tf.resource, name=None)\n",
      "  13339317168: TensorSpec(shape=(), dtype=tf.resource, name=None)\n",
      "  13339341568: TensorSpec(shape=(), dtype=tf.resource, name=None)\n",
      "  13339342624: TensorSpec(shape=(), dtype=tf.resource, name=None)\n",
      "  13339319632: TensorSpec(shape=(), dtype=tf.resource, name=None)\n",
      "  13339341392: TensorSpec(shape=(), dtype=tf.resource, name=None)\n",
      "  13339364336: TensorSpec(shape=(), dtype=tf.resource, name=None)\n",
      "  13339392832: TensorSpec(shape=(), dtype=tf.resource, name=None)\n",
      "  13339410672: TensorSpec(shape=(), dtype=tf.resource, name=None)\n",
      "  13339391424: TensorSpec(shape=(), dtype=tf.resource, name=None)\n",
      "  13339392656: TensorSpec(shape=(), dtype=tf.resource, name=None)\n",
      "  13339414016: TensorSpec(shape=(), dtype=tf.resource, name=None)\n",
      "  13339451632: TensorSpec(shape=(), dtype=tf.resource, name=None)\n",
      "  13339451808: TensorSpec(shape=(), dtype=tf.resource, name=None)\n",
      "  13339441104: TensorSpec(shape=(), dtype=tf.resource, name=None)\n",
      "  13339442336: TensorSpec(shape=(), dtype=tf.resource, name=None)\n",
      "  13339454272: TensorSpec(shape=(), dtype=tf.resource, name=None)\n",
      "  13339474400: TensorSpec(shape=(), dtype=tf.resource, name=None)\n",
      "  13339475456: TensorSpec(shape=(), dtype=tf.resource, name=None)\n",
      "  13339472992: TensorSpec(shape=(), dtype=tf.resource, name=None)\n",
      "  13339474224: TensorSpec(shape=(), dtype=tf.resource, name=None)\n",
      "  13339499680: TensorSpec(shape=(), dtype=tf.resource, name=None)\n",
      "  13339524080: TensorSpec(shape=(), dtype=tf.resource, name=None)\n",
      "  13339537472: TensorSpec(shape=(), dtype=tf.resource, name=None)\n",
      "  13339522672: TensorSpec(shape=(), dtype=tf.resource, name=None)\n",
      "  13339523904: TensorSpec(shape=(), dtype=tf.resource, name=None)\n",
      "  13339541168: TensorSpec(shape=(), dtype=tf.resource, name=None)\n",
      "  13339582880: TensorSpec(shape=(), dtype=tf.resource, name=None)\n",
      "  13339583056: TensorSpec(shape=(), dtype=tf.resource, name=None)\n",
      "  13339560064: TensorSpec(shape=(), dtype=tf.resource, name=None)\n",
      "  13339561296: TensorSpec(shape=(), dtype=tf.resource, name=None)\n",
      "  13339586400: TensorSpec(shape=(), dtype=tf.resource, name=None)\n",
      "  13339615472: TensorSpec(shape=(), dtype=tf.resource, name=None)\n",
      "  13339616528: TensorSpec(shape=(), dtype=tf.resource, name=None)\n",
      "  13339609920: TensorSpec(shape=(), dtype=tf.resource, name=None)\n",
      "  13339615296: TensorSpec(shape=(), dtype=tf.resource, name=None)\n",
      "  13339648944: TensorSpec(shape=(), dtype=tf.resource, name=None)\n",
      "  13339673344: TensorSpec(shape=(), dtype=tf.resource, name=None)\n",
      "  13339674400: TensorSpec(shape=(), dtype=tf.resource, name=None)\n",
      "  13339651408: TensorSpec(shape=(), dtype=tf.resource, name=None)\n",
      "  13339673168: TensorSpec(shape=(), dtype=tf.resource, name=None)\n",
      "  13339694528: TensorSpec(shape=(), dtype=tf.resource, name=None)\n",
      "  13339714832: TensorSpec(shape=(), dtype=tf.resource, name=None)\n",
      "  13339715888: TensorSpec(shape=(), dtype=tf.resource, name=None)\n",
      "  13339696992: TensorSpec(shape=(), dtype=tf.resource, name=None)\n",
      "  13339714656: TensorSpec(shape=(), dtype=tf.resource, name=None)\n",
      "  13339728000: TensorSpec(shape=(), dtype=tf.resource, name=None)\n",
      "  13339748304: TensorSpec(shape=(), dtype=tf.resource, name=None)\n",
      "  13339749360: TensorSpec(shape=(), dtype=tf.resource, name=None)\n",
      "  13339746896: TensorSpec(shape=(), dtype=tf.resource, name=None)\n",
      "  13339748128: TensorSpec(shape=(), dtype=tf.resource, name=None)\n",
      "  13339769488: TensorSpec(shape=(), dtype=tf.resource, name=None)\n",
      "  13339793888: TensorSpec(shape=(), dtype=tf.resource, name=None)\n",
      "  13339794944: TensorSpec(shape=(), dtype=tf.resource, name=None)\n",
      "  13339792480: TensorSpec(shape=(), dtype=tf.resource, name=None)\n",
      "  13339793712: TensorSpec(shape=(), dtype=tf.resource, name=None)\n",
      "  13339815072: TensorSpec(shape=(), dtype=tf.resource, name=None)\n",
      "  13339831280: TensorSpec(shape=(), dtype=tf.resource, name=None)\n",
      "  13339848768: TensorSpec(shape=(), dtype=tf.resource, name=None)\n",
      "  13339829872: TensorSpec(shape=(), dtype=tf.resource, name=None)\n",
      "  13339831104: TensorSpec(shape=(), dtype=tf.resource, name=None)\n",
      "  13339851232: TensorSpec(shape=(), dtype=tf.resource, name=None)\n",
      "  13339867440: TensorSpec(shape=(), dtype=tf.resource, name=None)\n",
      "  13339868496: TensorSpec(shape=(), dtype=tf.resource, name=None)\n",
      "  13339866032: TensorSpec(shape=(), dtype=tf.resource, name=None)\n",
      "  13339867264: TensorSpec(shape=(), dtype=tf.resource, name=None)\n",
      "  13341332048: TensorSpec(shape=(), dtype=tf.resource, name=None)\n",
      "  13341331872: TensorSpec(shape=(), dtype=tf.resource, name=None)\n",
      "  13341333984: TensorSpec(shape=(), dtype=tf.resource, name=None)\n",
      "  13341333808: TensorSpec(shape=(), dtype=tf.resource, name=None)\n"
     ]
    },
    {
     "name": "stderr",
     "output_type": "stream",
     "text": [
      "WARNING: All log messages before absl::InitializeLog() is called are written to STDERR\n",
      "W0000 00:00:1753736521.071625  436693 tf_tfl_flatbuffer_helpers.cc:365] Ignored output_format.\n",
      "W0000 00:00:1753736521.071673  436693 tf_tfl_flatbuffer_helpers.cc:368] Ignored drop_control_dependency.\n",
      "2025-07-28 23:02:01.072061: I tensorflow/cc/saved_model/reader.cc:83] Reading SavedModel from: /var/folders/lq/90xs6mj17d73071t7twq5nmr0000gn/T/tmpbz_qreo6\n",
      "2025-07-28 23:02:01.080909: I tensorflow/cc/saved_model/reader.cc:52] Reading meta graph with tags { serve }\n",
      "2025-07-28 23:02:01.080927: I tensorflow/cc/saved_model/reader.cc:147] Reading SavedModel debug info (if present) from: /var/folders/lq/90xs6mj17d73071t7twq5nmr0000gn/T/tmpbz_qreo6\n",
      "I0000 00:00:1753736521.175336  436693 mlir_graph_optimization_pass.cc:425] MLIR V1 optimization pass is not enabled\n",
      "2025-07-28 23:02:01.193348: I tensorflow/cc/saved_model/loader.cc:236] Restoring SavedModel bundle.\n",
      "2025-07-28 23:02:01.856853: I tensorflow/cc/saved_model/loader.cc:220] Running initialization op on SavedModel bundle at path: /var/folders/lq/90xs6mj17d73071t7twq5nmr0000gn/T/tmpbz_qreo6\n",
      "2025-07-28 23:02:02.033617: I tensorflow/cc/saved_model/loader.cc:471] SavedModel load for tags { serve }; Status: success: OK. Took 961561 microseconds.\n",
      "2025-07-28 23:02:02.197499: I tensorflow/compiler/mlir/tensorflow/utils/dump_mlir_util.cc:269] disabling MLIR crash reproducer, set env var `MLIR_CRASH_REPRODUCER_DIRECTORY` to enable.\n"
     ]
    }
   ],
   "source": [
    "converter = tf.lite.TFLiteConverter.from_keras_model(model)\n",
    "tflite_model = converter.convert()\n",
    "with open(\"age_model.tflite\", \"wb\") as f:\n",
    "    f.write(tflite_model)\n"
   ]
  },
  {
   "cell_type": "code",
   "execution_count": 16,
   "id": "23187f2b",
   "metadata": {},
   "outputs": [
    {
     "name": "stderr",
     "output_type": "stream",
     "text": [
      "WARNING:absl:You are saving your model as an HDF5 file via `model.save()` or `keras.saving.save_model(model)`. This file format is considered legacy. We recommend using instead the native Keras format, e.g. `model.save('my_model.keras')` or `keras.saving.save_model(model, 'my_model.keras')`. \n"
     ]
    }
   ],
   "source": [
    "model.save(\"age_model.h5\")\n"
   ]
  }
 ],
 "metadata": {
  "kernelspec": {
   "display_name": "3.9.12",
   "language": "python",
   "name": "python3"
  },
  "language_info": {
   "codemirror_mode": {
    "name": "ipython",
    "version": 3
   },
   "file_extension": ".py",
   "mimetype": "text/x-python",
   "name": "python",
   "nbconvert_exporter": "python",
   "pygments_lexer": "ipython3",
   "version": "3.9.12"
  }
 },
 "nbformat": 4,
 "nbformat_minor": 5
}
