{
 "cells": [
  {
   "cell_type": "code",
   "execution_count": 11,
   "id": "35476dc6",
   "metadata": {},
   "outputs": [
    {
     "name": "stdout",
     "output_type": "stream",
     "text": [
      "\u001b[1m1/1\u001b[0m \u001b[32m━━━━━━━━━━━━━━━━━━━━\u001b[0m\u001b[37m\u001b[0m \u001b[1m1s\u001b[0m 544ms/step\n",
      "Top 3 Predicted Age Ranges:\n",
      "  1. 20–29 (Confidence: 0.37)\n",
      "  2. 10–19 (Confidence: 0.22)\n",
      "  3. 30–39 (Confidence: 0.16)\n"
     ]
    }
   ],
   "source": [
    "import tensorflow as tf\n",
    "from tensorflow.keras.models import load_model\n",
    "import numpy as np\n",
    "from PIL import Image\n",
    "\n",
    "img_size = 128\n",
    "\n",
    "# Define class labels\n",
    "class_labels = [\n",
    "    \"0–9\", \"10–19\", \"20–29\", \"30–39\", \"40–49\",\n",
    "    \"50–59\", \"60–69\", \"70–79\", \"80–89\"\n",
    "]\n",
    "\n",
    "# Load model\n",
    "model = load_model(\"age_model.h5\", compile=False)\n",
    "\n",
    "\n",
    "# Load and preprocess image\n",
    "img_path = \"/Users/leighchejaikarran/Library/CloudStorage/OneDrive-ADvTECHLtd/Varsity College/Honours Data Analytics/age_identification_cnn/test2.png\"\n",
    "img = Image.open(img_path).convert('RGB')\n",
    "img = np.array(img)\n",
    "img = tf.image.resize_with_pad(img, img_size, img_size)\n",
    "img = tf.cast(img, tf.float32) / 255.0\n",
    "img = tf.expand_dims(img, axis=0)\n",
    "\n",
    "# Predict\n",
    "predictions = model.predict(img)[0]\n",
    "top_3_indices = predictions.argsort()[-3:][::-1]\n",
    "\n",
    "# Show top-3 predictions\n",
    "print(\"Top 3 Predicted Age Ranges:\")\n",
    "for rank, idx in enumerate(top_3_indices, 1):\n",
    "    label = class_labels[idx]\n",
    "    confidence = predictions[idx]\n",
    "    print(f\"  {rank}. {label} (Confidence: {confidence:.2f})\")\n"
   ]
  }
 ],
 "metadata": {
  "kernelspec": {
   "display_name": "3.9.12",
   "language": "python",
   "name": "python3"
  },
  "language_info": {
   "codemirror_mode": {
    "name": "ipython",
    "version": 3
   },
   "file_extension": ".py",
   "mimetype": "text/x-python",
   "name": "python",
   "nbconvert_exporter": "python",
   "pygments_lexer": "ipython3",
   "version": "3.9.12"
  }
 },
 "nbformat": 4,
 "nbformat_minor": 5
}
